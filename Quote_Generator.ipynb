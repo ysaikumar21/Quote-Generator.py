{
  "nbformat": 4,
  "nbformat_minor": 0,
  "metadata": {
    "colab": {
      "provenance": []
    },
    "kernelspec": {
      "name": "python3",
      "display_name": "Python 3"
    },
    "language_info": {
      "name": "python"
    }
  },
  "cells": [
    {
      "cell_type": "code",
      "execution_count": 13,
      "metadata": {
        "colab": {
          "base_uri": "https://localhost:8080/"
        },
        "id": "pGx7cT36VzHh",
        "outputId": "824fbf72-7a16-4806-b69a-02fbf6d13400"
      },
      "outputs": [
        {
          "output_type": "stream",
          "name": "stdout",
          "text": [
            "** choice a random Quote **\n",
            "The greatest glory in living lies not in never falling, but in rising every time we fall.\n",
            "\n",
            "** choice a random Quotes with author and category **\n",
            "In the middle of difficulty lies opportunity.-Albert Einstein-motivation\n"
          ]
        }
      ],
      "source": [
        "import random\n",
        "quotes_author = [{\"quote\": \"The only way to do great work is to love what you do.\", \"author\": \"Steve Jobs\", \"category\": \"inspiration\"},{\"quote\": \"In the middle of difficulty lies opportunity.\", \"author\": \"Albert Einstein\", \"category\": \"motivation\"}]\n",
        "Quotes=[\n",
        "    \"The only way to do great work is to love what you do.\",\n",
        "    \"In the middle of difficulty lies opportunity.\",\n",
        "    \"It is better to be alone than in bad company.\",\n",
        "    \"The greatest glory in living lies not in never falling, but in rising every time we fall.\",\n",
        "    \"The only person you are destined to become is the person you decide to be.\"]\n",
        "def random_quote():\n",
        "  return random.choice(Quotes)\n",
        "def random_with_author():\n",
        "  new_quote = random.choice(quotes_author)\n",
        "  return f\"{new_quote['quote']}-{new_quote['author']}-{new_quote['category']}\"\n",
        "\n",
        "print('** choice a random Quote **')\n",
        "print(random_quote())\n",
        "print()\n",
        "print(f\"** choice a random Quotes with author and category **\")\n",
        "print(random_with_author())\n",
        "\n"
      ]
    },
    {
      "cell_type": "code",
      "source": [],
      "metadata": {
        "id": "u6vYHz89WgpP"
      },
      "execution_count": 5,
      "outputs": []
    }
  ]
}